{
  "nbformat": 4,
  "nbformat_minor": 0,
  "metadata": {
    "colab": {
      "provenance": []
    },
    "kernelspec": {
      "name": "python3",
      "display_name": "Python 3"
    },
    "language_info": {
      "name": "python"
    }
  },
  "cells": [
    {
      "cell_type": "code",
      "execution_count": null,
      "metadata": {
        "id": "mVKPttgUZ-SH"
      },
      "outputs": [],
      "source": [
        "import openai\n",
        "import pandas as pd\n",
        "import json\n",
        "import sqlite3\n",
        "from difflib import get_close_matches\n"
      ]
    },
    {
      "cell_type": "code",
      "source": [
        "# # If you're using the default OpenAI API key, uncomment the following lines:\n",
        "openai.api_key = open(\"OpenAI_API_Key.txt\", \"r\").read().strip()\n",
        "os.environ['OPENAI_API_KEY'] = openai.api_key"
      ],
      "metadata": {
        "id": "n7_4G_C8bO2n"
      },
      "execution_count": null,
      "outputs": []
    },
    {
      "cell_type": "code",
      "source": [
        "# Initialize SQLite database connection\n",
        "conn = sqlite3.connect('restaurant.db')\n",
        "c = conn.cursor()\n",
        "\n",
        "# Create orders table if not exists\n",
        "c.execute('''\n",
        "    CREATE TABLE IF NOT EXISTS orders (\n",
        "        id INTEGER PRIMARY KEY AUTOINCREMENT,\n",
        "        item TEXT NOT NULL,\n",
        "        customizations TEXT,\n",
        "        order_type TEXT NOT NULL,\n",
        "        timestamp TIMESTAMP DEFAULT CURRENT_TIMESTAMP\n",
        "    )\n",
        "''')\n",
        "conn.commit()\n",
        "\n",
        "# In-memory reservations list\n",
        "reservations = []\n"
      ],
      "metadata": {
        "id": "9CUqF0zRabk7"
      },
      "execution_count": null,
      "outputs": []
    },
    {
      "cell_type": "code",
      "source": [
        "# Load menu from CSV\n",
        "def get_menu():\n",
        "    \"\"\"\n",
        "    Retrieves the menu items from a CSV file.\n",
        "\n",
        "    Returns:\n",
        "    dict: A dictionary where keys are categories and values are lists of items.\n",
        "    \"\"\"\n",
        "\n",
        "    menu_df = pd.read_csv('menu.csv')\n",
        "\n",
        "    menu = menu_df.groupby('category')['item'].apply(list).to_dict()\n",
        "\n",
        "    return menu\n"
      ],
      "metadata": {
        "id": "hwklXcIMaEPd"
      },
      "execution_count": null,
      "outputs": []
    },
    {
      "cell_type": "code",
      "source": [
        "# Handle order placement with customization and suggestion\n",
        "def place_order(item, customizations, order_type):\n",
        "    \"\"\"\n",
        "    Places an order with optional customizations.\n",
        "\n",
        "    Args:\n",
        "        item (str): The item to order.\n",
        "        customizations (list): List of customizations for the item.\n",
        "        order_type (str): Type of order, either 'delivery' or 'dine-in'.\n",
        "\n",
        "    Returns:\n",
        "        str: Confirmation message for the order.\n",
        "    \"\"\"\n",
        "    menu = get_menu()\n",
        "    all_items = [item for sublist in menu.values() for item in sublist]\n",
        "\n",
        "    if item not in all_items:\n",
        "        close_matches = get_close_matches(item, all_items, n=3)\n",
        "        suggestion_message = f\"'{item}' is not in our menu. Did you mean: {', '.join(close_matches)}?\"\n",
        "        return suggestion_message\n",
        "    else:\n",
        "        # Insert order into database\n",
        "        c.execute('''\n",
        "            INSERT INTO orders (item, customizations, order_type)\n",
        "            VALUES (?, ?, ?)\n",
        "        ''', (item, ', '.join(customizations) if customizations else None, order_type))\n",
        "        conn.commit()\n",
        "\n",
        "    return f\"Order placed for {item} with customizations: {', '.join(customizations) if customizations else 'None'}.\"\n"
      ],
      "metadata": {
        "id": "E2dvdgLQaUXH"
      },
      "execution_count": null,
      "outputs": []
    },
    {
      "cell_type": "code",
      "source": [
        "# Handle reservation\n",
        "def make_reservation(date, time, name, guests, reservation_type):\n",
        "    \"\"\"\n",
        "    Makes a reservation for delivery or dine-in.\n",
        "\n",
        "    Args:\n",
        "        date (str): The date of the reservation.\n",
        "        time (str): The time of the reservation.\n",
        "        name (str): Name for the reservation.\n",
        "        guests (int): Number of guests.\n",
        "        reservation_type (str): Type of reservation, either 'delivery' or 'dine-in'.\n",
        "\n",
        "    Returns:\n",
        "        str: Confirmation message for the reservation.\n",
        "    \"\"\"\n",
        "    reservations.append({\n",
        "        'date': date,\n",
        "        'time': time,\n",
        "        'name': name,\n",
        "        'guests': guests,\n",
        "        'reservation_type': reservation_type\n",
        "    })\n",
        "    return f\"{reservation_type.capitalize()} reservation confirmed for {name} on {date} at {time} for {guests} guests.\"\n"
      ],
      "metadata": {
        "id": "gSD_eXq1ajdY"
      },
      "execution_count": null,
      "outputs": []
    },
    {
      "cell_type": "code",
      "source": [
        "# Cancel reservation\n",
        "def cancel_reservation(name, date, time):\n",
        "    \"\"\"\n",
        "    Cancels a reservation.\n",
        "\n",
        "    Args:\n",
        "        name (str): Name of the reservation to cancel.\n",
        "        date (str): Date of the reservation to cancel.\n",
        "        time (str): Time of the reservation to cancel.\n",
        "\n",
        "    Returns:\n",
        "        str: Confirmation message for the cancellation.\n",
        "    \"\"\"\n",
        "    global reservations\n",
        "    reservations = [res for res in reservations if not (res['name'] == name and res['date'] == date and res['time'] == time)]\n",
        "    return f\"Reservation for {name} on {date} at {time} has been cancelled.\"\n",
        "\n"
      ],
      "metadata": {
        "id": "3SdcixsmanR9"
      },
      "execution_count": null,
      "outputs": []
    },
    {
      "cell_type": "code",
      "source": [
        "# Get all reservations\n",
        "def get_reservations():\n",
        "    \"\"\"\n",
        "    Retrieves all current reservations.\n",
        "\n",
        "    Returns:\n",
        "        str: Formatted string listing all reservations.\n",
        "    \"\"\"\n",
        "    if not reservations:\n",
        "        return \"There are no reservations at the moment.\"\n",
        "\n",
        "    reservation_list = \"\\n\".join([f\"{res['name']} - {res['date']} at {res['time']} for {res['guests']} guests ({res['reservation_type']})\" for res in reservations])\n",
        "    return f\"Current reservations:\\n{reservation_list}\"\n"
      ],
      "metadata": {
        "id": "LXZL19StarwR"
      },
      "execution_count": null,
      "outputs": []
    },
    {
      "cell_type": "code",
      "source": [
        "# Get all orders (for year-end auditing)\n",
        "def get_all_orders():\n",
        "    \"\"\"\n",
        "    Retrieves all orders from the database.\n",
        "\n",
        "    Returns:\n",
        "        list: List of tuples containing order details.\n",
        "    \"\"\"\n",
        "    c.execute('''\n",
        "        SELECT item, customizations, order_type, timestamp\n",
        "        FROM orders\n",
        "    ''')\n",
        "    orders = c.fetchall()\n",
        "    return orders\n"
      ],
      "metadata": {
        "id": "WsixwSeKaueH"
      },
      "execution_count": null,
      "outputs": []
    },
    {
      "cell_type": "code",
      "source": [
        "# Other utility functions\n",
        "def get_hours():\n",
        "    \"\"\"\n",
        "    Retrieves the operating hours of the restaurant.\n",
        "\n",
        "    Returns:\n",
        "        str: Operating hours of the restaurant.\n",
        "    \"\"\"\n",
        "    return \"We are open from 10 AM to 10 PM every day.\"\n",
        "\n"
      ],
      "metadata": {
        "id": "14XxGW1lax3V"
      },
      "execution_count": null,
      "outputs": []
    },
    {
      "cell_type": "code",
      "source": [
        "def get_special_offers():\n",
        "    \"\"\"\n",
        "    Retrieves special offers at the restaurant.\n",
        "\n",
        "    Returns:\n",
        "        str: Current special offers.\n",
        "    \"\"\"\n",
        "    return \"We have a 20% discount on all desserts this week!\"\n",
        "\n"
      ],
      "metadata": {
        "id": "mcsPT9Afa0A1"
      },
      "execution_count": null,
      "outputs": []
    },
    {
      "cell_type": "code",
      "source": [
        "def get_location():\n",
        "    \"\"\"\n",
        "    Retrieves the location of the restaurant.\n",
        "\n",
        "    Returns:\n",
        "        str: Location of the restaurant.\n",
        "    \"\"\"\n",
        "    return \"We are located at 123 Main Street, Anytown.\"\n"
      ],
      "metadata": {
        "id": "q2aKOd6gbB5n"
      },
      "execution_count": null,
      "outputs": []
    },
    {
      "cell_type": "code",
      "source": [
        "\n",
        "# Function definitions for ChatGPT\n",
        "functions = [\n",
        "    {\"name\": \"get_menu\", \"description\": \"Get the menu\"},\n",
        "    {\n",
        "        \"name\": \"place_order\",\n",
        "        \"description\": \"Place an order with customizations\",\n",
        "        \"parameters\": {\n",
        "            \"type\": \"object\",\n",
        "            \"properties\": {\n",
        "                \"item\": {\"type\": \"string\", \"description\": \"The item to order\"},\n",
        "                \"customizations\": {\n",
        "                    \"type\": \"array\",\n",
        "                    \"items\": {\"type\": \"string\"},\n",
        "                    \"description\": \"List of customizations for the item\"\n",
        "                },\n",
        "                \"order_type\": {\n",
        "                    \"type\": \"string\",\n",
        "                    \"enum\": [\"delivery\", \"dine-in\"],\n",
        "                    \"description\": \"Type of order: delivery or dine-in\"\n",
        "                }\n",
        "            },\n",
        "            \"required\": [\"item\", \"order_type\"]\n",
        "        }\n",
        "    },\n",
        "    {\n",
        "        \"name\": \"make_reservation\",\n",
        "        \"description\": \"Make a reservation\",\n",
        "        \"parameters\": {\n",
        "            \"type\": \"object\",\n",
        "            \"properties\": {\n",
        "                \"date\": {\"type\": \"string\", \"description\": \"The date of the reservation\"},\n",
        "                \"time\": {\"type\": \"string\", \"description\": \"The time of the reservation\"},\n",
        "                \"name\": {\"type\": \"string\", \"description\": \"Name for the reservation\"},\n",
        "                \"guests\": {\"type\": \"integer\", \"description\": \"Number of guests\"},\n",
        "                \"reservation_type\": {\n",
        "                    \"type\": \"string\",\n",
        "                    \"enum\": [\"delivery\", \"dine-in\"],\n",
        "                    \"description\": \"Type of reservation: delivery or dine-in\"\n",
        "                }\n",
        "            },\n",
        "            \"required\": [\"date\", \"time\", \"name\", \"guests\", \"reservation_type\"]\n",
        "        }\n",
        "    },\n",
        "    {\n",
        "        \"name\": \"cancel_reservation\",\n",
        "        \"description\": \"Cancel a reservation\",\n",
        "        \"parameters\": {\n",
        "            \"type\": \"object\",\n",
        "            \"properties\": {\n",
        "                \"name\": {\"type\": \"string\", \"description\": \"Name of the reservation to cancel\"},\n",
        "                \"date\": {\"type\": \"string\", \"description\": \"Date of the reservation to cancel\"},\n",
        "                \"time\": {\"type\": \"string\", \"description\": \"Time of the reservation to cancel\"}\n",
        "            },\n",
        "            \"required\": [\"name\", \"date\", \"time\"]\n",
        "        }\n",
        "    },\n",
        "    {\"name\": \"get_reservations\", \"description\": \"Get all reservations\"},\n",
        "    {\n",
        "        \"name\": \"get_all_orders\",\n",
        "        \"description\": \"Get all orders for year-end auditing\"\n",
        "    },\n",
        "    {\"name\": \"get_hours\", \"description\": \"Get the operating hours\"},\n",
        "    {\"name\": \"get_special_offers\", \"description\": \"Get the special offers\"},\n",
        "    {\"name\": \"get_location\", \"description\": \"Get the location of the restaurant\"}\n",
        "]\n",
        "\n",
        "\n"
      ],
      "metadata": {
        "id": "OGqpD9WSa_8n"
      },
      "execution_count": null,
      "outputs": []
    },
    {
      "cell_type": "code",
      "source": [
        "# Function to interact with ChatGPT API\n",
        "def chat_with_gpt(prompt, functions):\n",
        "    \"\"\"\n",
        "    Interacts with OpenAI's GPT model to handle user queries.\n",
        "\n",
        "    Args:\n",
        "        prompt (str): User query.\n",
        "        functions (list): List of supported functions.\n",
        "\n",
        "    Returns:\n",
        "        str: Response generated by the chatbot.\n",
        "    \"\"\"\n",
        "    response = openai.ChatCompletion.create(\n",
        "        model=\"gpt-4-0613\",\n",
        "        messages=[\n",
        "            {\"role\": \"system\", \"content\": \"Welcome to the RestaurantBot! How can I assist you today?\"}\n",
        "        ],\n",
        "        functions=functions\n",
        "    )\n",
        "    if response['choices'][0]['finish_reason'] == 'function_call':\n",
        "        function_name = response['choices'][0]['message']['function_call']['name']\n",
        "        arguments = json.loads(response['choices'][0]['message']['function_call']['arguments'])\n",
        "\n",
        "        if function_name == 'get_menu':\n",
        "            return get_menu()\n",
        "        elif function_name == 'place_order':\n",
        "            return place_order(arguments['item'], arguments.get('customizations', []), arguments['order_type'])\n",
        "        elif function_name == 'make_reservation':\n",
        "            return make_reservation(arguments['date'], arguments['time'], arguments['name'], arguments['guests'], arguments['reservation_type'])\n",
        "        elif function_name == 'cancel_reservation':\n",
        "            return cancel_reservation(arguments['name'], arguments['date'], arguments['time'])\n",
        "        elif function_name == 'get_reservations':\n",
        "            return get_reservations()\n",
        "        elif function_name == 'get_all_orders':\n",
        "            return get_all_orders()\n",
        "        elif function_name == 'get_hours':\n",
        "            return get_hours()\n",
        "        elif function_name == 'get_special_offers':\n",
        "            return get_special_offers()\n",
        "        elif function_name == 'get_location':\n",
        "            return get_location()\n",
        "    else:\n",
        "        return response['choices'][0]['message']['content']"
      ],
      "metadata": {
        "id": "b3ZM_ehKa79d"
      },
      "execution_count": null,
      "outputs": []
    },
    {
      "cell_type": "code",
      "source": [
        "\n",
        "# Example usage\n",
        "if __name__ == \"__main__\":\n",
        "    while True:\n",
        "        user_input = input(\"You: \")\n",
        "        if user_input.lower() in [\"exit\", \"bye\", \"quit\"]:\n",
        "            print(\"RestaurantBot: Goodbye! We hope to see you again soon.\")\n",
        "            break\n",
        "        response = chat_with_gpt(user_input, functions)\n",
        "        print(f\"RestaurantBot: {response}\")\n"
      ],
      "metadata": {
        "id": "fGRwLMQTa5db"
      },
      "execution_count": null,
      "outputs": []
    }
  ]
}